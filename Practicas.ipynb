{
 "cells": [
  {
   "cell_type": "code",
   "execution_count": 1,
   "metadata": {},
   "outputs": [],
   "source": [
    "import matplotlib.pyplot as plt\n",
    "import pandas as pd\n",
    "import numpy as np\n",
    "import matplotlib as plt\n",
    "\n",
    "import seaborn as sns\n",
    "from scipy.stats import norm\n",
    "from sklearn.preprocessing import StandardScaler\n",
    "from scipy import stats\n",
    "import warnings"
   ]
  },
  {
   "cell_type": "markdown",
   "metadata": {},
   "source": [
    " #### Ejercicios básicos con NumPy \n",
    " Crear un array:\n",
    "\n",
    "- Crea un array de 1 dimensión con los números del 1 al 10.\n",
    " \n",
    "- Crea un array de 2 dimensiones de 3x3 con números aleatorios entre 0 y 1."
   ]
  },
  {
   "cell_type": "code",
   "execution_count": 17,
   "metadata": {},
   "outputs": [
    {
     "name": "stdout",
     "output_type": "stream",
     "text": [
      "[ 1  2  3  4  5  6  7  8  9 10]\n"
     ]
    }
   ],
   "source": [
    "array_1d = np.arange(1,11)\n",
    "print(array_1d)"
   ]
  },
  {
   "cell_type": "code",
   "execution_count": 18,
   "metadata": {},
   "outputs": [
    {
     "name": "stdout",
     "output_type": "stream",
     "text": [
      "[[0.24762036 0.48456152 0.94628097]\n",
      " [0.75753003 0.23688791 0.86877368]\n",
      " [0.7098019  0.09387901 0.70163876]]\n"
     ]
    }
   ],
   "source": [
    "array_2d = np.random.rand(3, 3)\n",
    "print(array_2d)"
   ]
  },
  {
   "cell_type": "markdown",
   "metadata": {},
   "source": [
    "#### Operaciones básicas:\n",
    "\n",
    "- Suma, resta, multiplicación y división de dos arrays de la misma dimensión.\n"
   ]
  },
  {
   "cell_type": "code",
   "execution_count": 29,
   "metadata": {},
   "outputs": [],
   "source": [
    "array1 = np.array([1, 2, 3, 4, 5])\n",
    "array2 = np.array([6, 7, 8, 9, 10])"
   ]
  },
  {
   "cell_type": "code",
   "execution_count": 32,
   "metadata": {},
   "outputs": [
    {
     "name": "stdout",
     "output_type": "stream",
     "text": [
      "Suma de array1 y array2\n",
      "[ 7  9 11 13 15]\n"
     ]
    }
   ],
   "source": [
    "suma = np.add(array1, array2)\n",
    "print(\"Suma de array1 y array2\")\n",
    "print(suma)"
   ]
  },
  {
   "cell_type": "code",
   "execution_count": 33,
   "metadata": {},
   "outputs": [
    {
     "name": "stdout",
     "output_type": "stream",
     "text": [
      "Resta entre array1 y array2\n",
      "[-5 -5 -5 -5 -5]\n"
     ]
    }
   ],
   "source": [
    "resta = np.subtract(array1, array2)\n",
    "print(\"Resta entre array1 y array2\")\n",
    "print(resta)"
   ]
  },
  {
   "cell_type": "code",
   "execution_count": 34,
   "metadata": {},
   "outputs": [
    {
     "name": "stdout",
     "output_type": "stream",
     "text": [
      "Multipicacion entre array1 y array2\n",
      "[ 6 14 24 36 50]\n"
     ]
    }
   ],
   "source": [
    "multi = np.multiply(array1, array2)\n",
    "print(\"Multipicacion entre array1 y array2\")\n",
    "print(multi)"
   ]
  },
  {
   "cell_type": "code",
   "execution_count": 35,
   "metadata": {},
   "outputs": [
    {
     "name": "stdout",
     "output_type": "stream",
     "text": [
      "Division entre array1 y array2\n",
      "[0.16666667 0.28571429 0.375      0.44444444 0.5       ]\n"
     ]
    }
   ],
   "source": [
    "divi = np.divide(array1, array2)\n",
    "print(\"Division entre array1 y array2\")\n",
    "print(divi)"
   ]
  },
  {
   "cell_type": "markdown",
   "metadata": {},
   "source": [
    "- Calcula la media, la mediana y la desviación estándar de un array."
   ]
  },
  {
   "cell_type": "code",
   "execution_count": 36,
   "metadata": {},
   "outputs": [],
   "source": [
    "array3 = np.array([10, 22, 26,50, 78, 96, 37])"
   ]
  },
  {
   "cell_type": "code",
   "execution_count": 37,
   "metadata": {},
   "outputs": [
    {
     "name": "stdout",
     "output_type": "stream",
     "text": [
      "Media del array3\n",
      "45.57142857142857\n"
     ]
    }
   ],
   "source": [
    "media = np.mean(array3)\n",
    "print(\"Media del array3\")\n",
    "print(media)"
   ]
  },
  {
   "cell_type": "code",
   "execution_count": 38,
   "metadata": {},
   "outputs": [
    {
     "name": "stdout",
     "output_type": "stream",
     "text": [
      "Mediana del array3\n",
      "37.0\n"
     ]
    }
   ],
   "source": [
    "mediana = np.median(array3)\n",
    "print(\"Mediana del array3\")\n",
    "print(mediana)"
   ]
  },
  {
   "cell_type": "code",
   "execution_count": 39,
   "metadata": {},
   "outputs": [
    {
     "name": "stdout",
     "output_type": "stream",
     "text": [
      "Desviacion estandar del array3\n",
      "29.011609217479734\n"
     ]
    }
   ],
   "source": [
    "desvi_estan = np.std(array3)\n",
    "print(\"Desviacion estandar del array3\")\n",
    "print(desvi_estan)"
   ]
  },
  {
   "cell_type": "markdown",
   "metadata": {},
   "source": [
    "# Indexación y segmentación:\n",
    "\n",
    "- Extrae el tercer elemento de un array.\n",
    "- Extrae los elementos del segundo al cuarto de un array.\n",
    "- Extrae una submatriz 2x2 de una matriz 3x3."
   ]
  },
  {
   "cell_type": "code",
   "execution_count": 40,
   "metadata": {},
   "outputs": [
    {
     "name": "stdout",
     "output_type": "stream",
     "text": [
      "[ 8 13 16 55 84 49 53 37]\n"
     ]
    }
   ],
   "source": [
    "array4 = np.array([8, 13, 16, 55, 84, 49, 53, 37])\n",
    "print(array4)"
   ]
  },
  {
   "cell_type": "code",
   "execution_count": 42,
   "metadata": {},
   "outputs": [
    {
     "name": "stdout",
     "output_type": "stream",
     "text": [
      "16\n"
     ]
    }
   ],
   "source": [
    "tercer_elemento = array4[2]\n",
    "print(tercer_elemento)"
   ]
  },
  {
   "cell_type": "markdown",
   "metadata": {},
   "source": [
    "- Extrae los elementos del segundo al cuarto de un array."
   ]
  },
  {
   "cell_type": "code",
   "execution_count": 51,
   "metadata": {},
   "outputs": [
    {
     "name": "stdout",
     "output_type": "stream",
     "text": [
      "[13 16 55]\n"
     ]
    }
   ],
   "source": [
    "sub_array4 = array4[1:4]\n",
    "print(sub_array4)"
   ]
  },
  {
   "cell_type": "markdown",
   "metadata": {},
   "source": [
    "- Extrae una submatriz 2x2 de una matriz 3x3."
   ]
  },
  {
   "cell_type": "code",
   "execution_count": 48,
   "metadata": {},
   "outputs": [
    {
     "name": "stdout",
     "output_type": "stream",
     "text": [
      "[[1 2 3]\n",
      " [4 5 6]\n",
      " [7 8 9]]\n"
     ]
    }
   ],
   "source": [
    "matrix_3x3 = np.array([[1, 2, 3],\n",
    "                       [4, 5, 6],\n",
    "                       [7, 8, 9]])\n",
    "print(matrix_3x3)"
   ]
  },
  {
   "cell_type": "code",
   "execution_count": 49,
   "metadata": {},
   "outputs": [
    {
     "name": "stdout",
     "output_type": "stream",
     "text": [
      "[[1 2]\n",
      " [4 5]]\n"
     ]
    }
   ],
   "source": [
    "submatrix_2x2 = matrix_3x3[:2, :2]\n",
    "print(submatrix_2x2)"
   ]
  },
  {
   "cell_type": "markdown",
   "metadata": {},
   "source": [
    "Ejercicios básicos con Pandas\n",
    "\n",
    "Crear un DataFrame:\n",
    "\n",
    "Crea un DataFrame con los siguientes datos"
   ]
  },
  {
   "cell_type": "code",
   "execution_count": 57,
   "metadata": {},
   "outputs": [],
   "source": [
    "data = {'Nombre': ['Ana', 'Luis', 'Pedro', 'Marta'],\n",
    "        'Edad': [23, 34, 45, 29],\n",
    "        'Ciudad': ['Madrid', 'Barcelona', 'Valencia', 'Sevilla']}\n",
    "  \n",
    "\n"
   ]
  },
  {
   "cell_type": "code",
   "execution_count": 59,
   "metadata": {},
   "outputs": [
    {
     "name": "stdout",
     "output_type": "stream",
     "text": [
      "  Nombre  Edad     Ciudad\n",
      "0    Ana    23     Madrid\n",
      "1   Luis    34  Barcelona\n",
      "2  Pedro    45   Valencia\n",
      "3  Marta    29    Sevilla\n"
     ]
    }
   ],
   "source": [
    "df = pd.DataFrame(data)\n",
    "print(df)"
   ]
  },
  {
   "cell_type": "markdown",
   "metadata": {},
   "source": [
    "Muestra las primeras 3 filas del DataFrame"
   ]
  },
  {
   "cell_type": "code",
   "execution_count": 60,
   "metadata": {},
   "outputs": [
    {
     "data": {
      "text/html": [
       "<div>\n",
       "<style scoped>\n",
       "    .dataframe tbody tr th:only-of-type {\n",
       "        vertical-align: middle;\n",
       "    }\n",
       "\n",
       "    .dataframe tbody tr th {\n",
       "        vertical-align: top;\n",
       "    }\n",
       "\n",
       "    .dataframe thead th {\n",
       "        text-align: right;\n",
       "    }\n",
       "</style>\n",
       "<table border=\"1\" class=\"dataframe\">\n",
       "  <thead>\n",
       "    <tr style=\"text-align: right;\">\n",
       "      <th></th>\n",
       "      <th>Nombre</th>\n",
       "      <th>Edad</th>\n",
       "      <th>Ciudad</th>\n",
       "    </tr>\n",
       "  </thead>\n",
       "  <tbody>\n",
       "    <tr>\n",
       "      <th>0</th>\n",
       "      <td>Ana</td>\n",
       "      <td>23</td>\n",
       "      <td>Madrid</td>\n",
       "    </tr>\n",
       "    <tr>\n",
       "      <th>1</th>\n",
       "      <td>Luis</td>\n",
       "      <td>34</td>\n",
       "      <td>Barcelona</td>\n",
       "    </tr>\n",
       "    <tr>\n",
       "      <th>2</th>\n",
       "      <td>Pedro</td>\n",
       "      <td>45</td>\n",
       "      <td>Valencia</td>\n",
       "    </tr>\n",
       "  </tbody>\n",
       "</table>\n",
       "</div>"
      ],
      "text/plain": [
       "  Nombre  Edad     Ciudad\n",
       "0    Ana    23     Madrid\n",
       "1   Luis    34  Barcelona\n",
       "2  Pedro    45   Valencia"
      ]
     },
     "execution_count": 60,
     "metadata": {},
     "output_type": "execute_result"
    }
   ],
   "source": [
    "df.head(3)"
   ]
  },
  {
   "cell_type": "markdown",
   "metadata": {},
   "source": [
    "Operaciones basicas:\n",
    "\n",
    "Añade una columna al DataFrame anterior llamada 'Salario' con valores [30000, 40000, 50000, 60000]."
   ]
  },
  {
   "cell_type": "code",
   "execution_count": 61,
   "metadata": {},
   "outputs": [
    {
     "name": "stdout",
     "output_type": "stream",
     "text": [
      "  Nombre  Edad     Ciudad  Salario\n",
      "0    Ana    23     Madrid    30000\n",
      "1   Luis    34  Barcelona    40000\n",
      "2  Pedro    45   Valencia    50000\n",
      "3  Marta    29    Sevilla    60000\n"
     ]
    }
   ],
   "source": [
    "df[\"Salario\"] = [30000, 40000, 50000, 60000]\n",
    "print(df)"
   ]
  },
  {
   "cell_type": "markdown",
   "metadata": {},
   "source": [
    "Calcula la media de la columna 'Edad'."
   ]
  },
  {
   "cell_type": "code",
   "execution_count": 62,
   "metadata": {},
   "outputs": [
    {
     "data": {
      "text/plain": [
       "32.75"
      ]
     },
     "execution_count": 62,
     "metadata": {},
     "output_type": "execute_result"
    }
   ],
   "source": [
    "df[\"Edad\"].mean()"
   ]
  },
  {
   "cell_type": "markdown",
   "metadata": {},
   "source": [
    "Filtra el DataFrame para mostrar solo las filas donde la 'Edad' es mayor de 30 años."
   ]
  },
  {
   "cell_type": "code",
   "execution_count": 64,
   "metadata": {},
   "outputs": [
    {
     "name": "stdout",
     "output_type": "stream",
     "text": [
      "  Nombre  Edad     Ciudad  Salario\n",
      "1   Luis    34  Barcelona    40000\n",
      "2  Pedro    45   Valencia    50000\n"
     ]
    }
   ],
   "source": [
    "df_filtrado = df[df[\"Edad\"] > 30]\n",
    "print(df_filtrado)"
   ]
  },
  {
   "cell_type": "markdown",
   "metadata": {},
   "source": [
    "Manipulación de datos:\n",
    "\n",
    "- Ordena el DataFrame por la columna 'Salario' de mayor a menor."
   ]
  },
  {
   "cell_type": "code",
   "execution_count": 65,
   "metadata": {},
   "outputs": [
    {
     "name": "stdout",
     "output_type": "stream",
     "text": [
      "  Nombre  Edad     Ciudad  Salario\n",
      "3  Marta    29    Sevilla    60000\n",
      "2  Pedro    45   Valencia    50000\n",
      "1   Luis    34  Barcelona    40000\n",
      "0    Ana    23     Madrid    30000\n"
     ]
    }
   ],
   "source": [
    "df_ordenado = df.sort_values(by = \"Salario\", ascending = False)\n",
    "print(df_ordenado)"
   ]
  },
  {
   "cell_type": "markdown",
   "metadata": {},
   "source": [
    "Agrupa el DataFrame por 'Ciudad' y calcula la media de 'Edad' para cada ciudad."
   ]
  },
  {
   "cell_type": "code",
   "execution_count": 66,
   "metadata": {},
   "outputs": [
    {
     "name": "stdout",
     "output_type": "stream",
     "text": [
      "Ciudad\n",
      "Barcelona    34.0\n",
      "Madrid       23.0\n",
      "Sevilla      29.0\n",
      "Valencia     45.0\n",
      "Name: Edad, dtype: float64\n"
     ]
    }
   ],
   "source": [
    "media_edad_por_ciudad = df.groupby(\"Ciudad\")[\"Edad\"].mean()\n",
    "print(media_edad_por_ciudad)"
   ]
  },
  {
   "cell_type": "markdown",
   "metadata": {},
   "source": [
    "Ejercicios de nivel intermedio con NumPy\n",
    "\n",
    "- Operaciones con arrays:\n",
    "\n",
    "Crea una matriz identidad de 4x4."
   ]
  },
  {
   "cell_type": "code",
   "execution_count": 67,
   "metadata": {},
   "outputs": [
    {
     "name": "stdout",
     "output_type": "stream",
     "text": [
      "[[1. 0. 0. 0.]\n",
      " [0. 1. 0. 0.]\n",
      " [0. 0. 1. 0.]\n",
      " [0. 0. 0. 1.]]\n"
     ]
    }
   ],
   "source": [
    "matriz_identidad = np.eye(4)\n",
    "print(matriz_identidad)"
   ]
  },
  {
   "cell_type": "markdown",
   "metadata": {},
   "source": [
    "Realiza la multiplicación matricial de dos matrices 3x3."
   ]
  },
  {
   "cell_type": "code",
   "execution_count": 68,
   "metadata": {},
   "outputs": [
    {
     "name": "stdout",
     "output_type": "stream",
     "text": [
      "[[ 30  36  42]\n",
      " [ 66  81  96]\n",
      " [102 126 150]]\n"
     ]
    }
   ],
   "source": [
    "matriz_a = np.array([\n",
    "    [1, 2, 3],\n",
    "    [4, 5, 6],\n",
    "    [7, 8, 9]\n",
    "])\n",
    "\n",
    "matriz_b = np.array([\n",
    "    [1, 2, 3],\n",
    "    [4, 5, 6],\n",
    "    [7, 8, 9]\n",
    "])\n",
    "\n",
    "resultado = np.dot(matriz_a, matriz_b)\n",
    "print(resultado)"
   ]
  },
  {
   "cell_type": "markdown",
   "metadata": {},
   "source": [
    "Calcula el determinante y la inversa de una matriz 3x3."
   ]
  },
  {
   "cell_type": "code",
   "execution_count": 70,
   "metadata": {},
   "outputs": [
    {
     "name": "stdout",
     "output_type": "stream",
     "text": [
      "determinante: 0.9999999999999964\n",
      "inversa\n",
      "[[-24.  18.   5.]\n",
      " [ 20. -15.  -4.]\n",
      " [ -5.   4.   1.]]\n"
     ]
    }
   ],
   "source": [
    "matriz = np.array([\n",
    "    [1, 2, 3],\n",
    "    [0, 1, 4],\n",
    "    [5, 6, 0]\n",
    "])\n",
    "\n",
    "determinante = np.linalg.det(matriz)\n",
    "\n",
    "inversa = np.linalg.inv(matriz)\n",
    "\n",
    "print(f\"determinante: {determinante}\")\n",
    "print(\"inversa\")\n",
    "print(inversa)"
   ]
  },
  {
   "cell_type": "markdown",
   "metadata": {},
   "source": [
    "Estadísticas y análisis:\n",
    "\n",
    "Genera un array de 1000 números aleatorios con distribución normal y calcula la media, la mediana y la desviación estándar."
   ]
  },
  {
   "cell_type": "code",
   "execution_count": 4,
   "metadata": {},
   "outputs": [
    {
     "name": "stdout",
     "output_type": "stream",
     "text": [
      "media: -0.018025787686805045\n",
      "mediana: -0.008211126106470094\n",
      "desviacion_estandar: 1.0501701103049406\n"
     ]
    }
   ],
   "source": [
    "numeros_aleatorios = np.random.randn(1000)\n",
    "\n",
    "media = np.mean(numeros_aleatorios)\n",
    "\n",
    "mediana = np.median(numeros_aleatorios)\n",
    "\n",
    "desviacion_estandar = np.std(numeros_aleatorios)\n",
    "\n",
    "print(f\"media: {media}\")\n",
    "print(f\"mediana: {mediana}\")\n",
    "print(f\"desviacion_estandar: {desviacion_estandar}\")\n",
    "\n"
   ]
  },
  {
   "cell_type": "markdown",
   "metadata": {},
   "source": [
    "Encuentra los valores máximos y mínimos en un array de 2 dimensiones."
   ]
  },
  {
   "cell_type": "code",
   "execution_count": 5,
   "metadata": {},
   "outputs": [
    {
     "name": "stdout",
     "output_type": "stream",
     "text": [
      "valor_maximo: 9\n",
      "valor_minimo: 1\n"
     ]
    }
   ],
   "source": [
    "array_2d = np.array([\n",
    "    [1, 2, 3],\n",
    "    [4, 5, 6],\n",
    "    [7, 8, 9]\n",
    "])\n",
    "\n",
    "valor_maximo = np.max(array_2d)\n",
    "\n",
    "valor_minimo = np.min(array_2d)\n",
    "\n",
    "print(f\"valor_maximo: {valor_maximo}\")\n",
    "print(f\"valor_minimo: {valor_minimo}\")"
   ]
  },
  {
   "cell_type": "markdown",
   "metadata": {},
   "source": [
    "Ejercicios de nivel intermedio con Pandas\n",
    "\n",
    "Manejo de datos faltantes:\n",
    "\n",
    "- Crea un DataFrame con algunos valores faltantes (NaN) y utiliza métodos para manejar estos datos (rellenar con un valor específico, eliminar filas o columnas con NaN)."
   ]
  },
  {
   "cell_type": "code",
   "execution_count": 2,
   "metadata": {},
   "outputs": [
    {
     "name": "stdout",
     "output_type": "stream",
     "text": [
      "DataFrame original:\n",
      "     A     B    C    D\n",
      "0  1.0   5.0  NaN  1.0\n",
      "1  2.0   NaN  2.0  2.0\n",
      "2  NaN   NaN  3.0  3.0\n",
      "3  4.0   8.0  4.0  NaN\n",
      "4  5.0  10.0  5.0  NaN\n"
     ]
    }
   ],
   "source": [
    "# Crear un DataFrame con algunos valores faltantes\n",
    "data = {\n",
    "    'A': [1, 2, np.nan, 4, 5],\n",
    "    'B': [5, np.nan, np.nan, 8, 10],\n",
    "    'C': [np.nan, 2, 3, 4, 5],\n",
    "    'D': [1, 2, 3, np.nan, np.nan]\n",
    "}\n",
    "\n",
    "df = pd.DataFrame(data)\n",
    "\n",
    "print(\"DataFrame original:\")\n",
    "print(df)\n"
   ]
  },
  {
   "cell_type": "markdown",
   "metadata": {},
   "source": [
    "Rellenar valores faltantes con un valor específico\n",
    "\n",
    "Podemos usar el método fillna() para rellenar los valores faltantes con un valor específico. Por ejemplo, rellenemos los valores faltantes con 0:"
   ]
  },
  {
   "cell_type": "code",
   "execution_count": 3,
   "metadata": {},
   "outputs": [
    {
     "name": "stdout",
     "output_type": "stream",
     "text": [
      "     A     B    C    D\n",
      "0  1.0   5.0  0.0  1.0\n",
      "1  2.0   0.0  2.0  2.0\n",
      "2  0.0   0.0  3.0  3.0\n",
      "3  4.0   8.0  4.0  0.0\n",
      "4  5.0  10.0  5.0  0.0\n"
     ]
    },
    {
     "name": "stderr",
     "output_type": "stream",
     "text": [
      "C:\\Users\\perei\\AppData\\Local\\Temp\\ipykernel_16728\\2834486308.py:1: UserWarning: Pandas doesn't allow columns to be created via a new attribute name - see https://pandas.pydata.org/pandas-docs/stable/indexing.html#attribute-access\n",
      "  df.filled = df.fillna(0)\n"
     ]
    }
   ],
   "source": [
    "df.filled = df.fillna(0)\n",
    "print(df.filled)"
   ]
  },
  {
   "cell_type": "markdown",
   "metadata": {},
   "source": [
    "Eliminar filas con valores faltantes\n",
    "\n",
    "Podemos usar el método dropna() para eliminar las filas que contienen valores faltantes:"
   ]
  },
  {
   "cell_type": "code",
   "execution_count": 4,
   "metadata": {},
   "outputs": [
    {
     "name": "stdout",
     "output_type": "stream",
     "text": [
      "Empty DataFrame\n",
      "Columns: [A, B, C, D]\n",
      "Index: []\n"
     ]
    }
   ],
   "source": [
    "df_dropped_rows = df.dropna()\n",
    "print(df_dropped_rows)"
   ]
  },
  {
   "cell_type": "markdown",
   "metadata": {},
   "source": [
    "Eliminar columnas con valores faltantes\n",
    "\n",
    "Podemos usar el método dropna(axis=1) para eliminar las columnas que contienen valores faltantes:"
   ]
  },
  {
   "cell_type": "code",
   "execution_count": 5,
   "metadata": {},
   "outputs": [
    {
     "name": "stdout",
     "output_type": "stream",
     "text": [
      "Empty DataFrame\n",
      "Columns: []\n",
      "Index: [0, 1, 2, 3, 4]\n"
     ]
    }
   ],
   "source": [
    "df_dropped_cols = df.dropna(axis = 1)\n",
    "print (df_dropped_cols)"
   ]
  },
  {
   "cell_type": "markdown",
   "metadata": {},
   "source": [
    "Operaciones avanzadas:\n",
    "\n",
    "Utiliza el método merge para combinar dos DataFrames."
   ]
  },
  {
   "cell_type": "code",
   "execution_count": 8,
   "metadata": {},
   "outputs": [
    {
     "name": "stdout",
     "output_type": "stream",
     "text": [
      "{'key': ['a', 'b', 'c', 'd'], 'value1': [1, 2, 3, 4]}\n",
      "{'key': ['b', 'd', 'g', 'h'], 'value2': [5, 6, 7, 8]}\n"
     ]
    }
   ],
   "source": [
    "data1 = {\"key\": [\"a\", \"b\", \"c\", \"d\"], \n",
    "         \"value1\": [1, 2, 3, 4]}\n",
    "\n",
    "df1 = pd.DataFrame(data1)\n",
    "\n",
    "data2 = {\"key\": [\"b\", \"d\", \"g\",\"h\"],\n",
    "         \"value2\": [5, 6, 7, 8]}\n",
    "\n",
    "df2 = pd.DataFrame(data2)\n",
    "\n",
    "print(data1)\n",
    "print(data2)"
   ]
  },
  {
   "cell_type": "markdown",
   "metadata": {},
   "source": [
    "# Realizar una unión (merge)\n",
    "\n",
    "Podemos combinar estos DataFrames usando el método merge(). Especificamos la columna común key y el tipo de unión. Aquí hay algunos tipos comunes de unión:\n",
    "\n"
   ]
  },
  {
   "cell_type": "markdown",
   "metadata": {},
   "source": [
    "Inner join: Combina solo las filas con claves coincidentes en ambos DataFrames."
   ]
  },
  {
   "cell_type": "code",
   "execution_count": 11,
   "metadata": {},
   "outputs": [
    {
     "name": "stdout",
     "output_type": "stream",
     "text": [
      "  key  value1  value2\n",
      "0   b       2       5\n",
      "1   d       4       6\n"
     ]
    }
   ],
   "source": [
    "# Inner join\n",
    "\n",
    "df_inner = pd.merge(df1, df2, on = \"key\", how = \"inner\")\n",
    "\n",
    "print(df_inner)"
   ]
  },
  {
   "cell_type": "markdown",
   "metadata": {},
   "source": [
    "Left join: Combina todas las filas del DataFrame izquierdo y las filas coincidentes del DataFrame derecho."
   ]
  },
  {
   "cell_type": "code",
   "execution_count": 10,
   "metadata": {},
   "outputs": [
    {
     "name": "stdout",
     "output_type": "stream",
     "text": [
      "  key  value1  value2\n",
      "0   a       1     NaN\n",
      "1   b       2     5.0\n",
      "2   c       3     NaN\n",
      "3   d       4     6.0\n"
     ]
    }
   ],
   "source": [
    "# left join\n",
    "\n",
    "df_left = pd.merge(df1, df2, on = \"key\", how = \"left\")\n",
    "\n",
    "print(df_left)"
   ]
  },
  {
   "cell_type": "markdown",
   "metadata": {},
   "source": [
    "Right join: Combina todas las filas del DataFrame derecho y las filas coincidentes del DataFrame izquierdo."
   ]
  },
  {
   "cell_type": "code",
   "execution_count": 12,
   "metadata": {},
   "outputs": [
    {
     "name": "stdout",
     "output_type": "stream",
     "text": [
      "  key  value1  value2\n",
      "0   b     2.0       5\n",
      "1   d     4.0       6\n",
      "2   g     NaN       7\n",
      "3   h     NaN       8\n"
     ]
    }
   ],
   "source": [
    "# right join\n",
    "\n",
    "df_right = pd.merge(df1, df2, on = \"key\", how = \"right\")\n",
    "\n",
    "print(df_right)"
   ]
  },
  {
   "cell_type": "markdown",
   "metadata": {},
   "source": [
    "Outer join: Combina todas las filas de ambos DataFrames, rellenando con NaN donde no hay coincidencias."
   ]
  },
  {
   "cell_type": "code",
   "execution_count": 13,
   "metadata": {},
   "outputs": [
    {
     "name": "stdout",
     "output_type": "stream",
     "text": [
      "  key  value1  value2\n",
      "0   a     1.0     NaN\n",
      "1   b     2.0     5.0\n",
      "2   c     3.0     NaN\n",
      "3   d     4.0     6.0\n",
      "4   g     NaN     7.0\n",
      "5   h     NaN     8.0\n"
     ]
    }
   ],
   "source": [
    "# outer join\n",
    "\n",
    "df_outer = pd.merge(df1, df2, on = \"key\", how = \"outer\")\n",
    "\n",
    "print(df_outer)"
   ]
  },
  {
   "cell_type": "markdown",
   "metadata": {},
   "source": [
    "Crea un DataFrame con datos de fechas y utiliza métodos de resampleo para agrupar por meses y calcular estadísticas."
   ]
  },
  {
   "cell_type": "markdown",
   "metadata": {},
   "source": [
    "Resampleo por meses\n",
    "\n",
    "Para agrupar los datos por meses y calcular estadísticas, primero necesitamos establecer la columna de fechas como índice del DataFrame. Luego, utilizamos el método resample() para agrupar por meses y calcular estadísticas como la media y la suma."
   ]
  },
  {
   "cell_type": "code",
   "execution_count": 25,
   "metadata": {},
   "outputs": [
    {
     "name": "stdout",
     "output_type": "stream",
     "text": [
      "               Valor\n",
      "Fecha               \n",
      "2023-01-01 -1.607241\n",
      "2023-01-02 -1.272379\n",
      "2023-01-03  0.772862\n",
      "2023-01-04 -1.367110\n",
      "2023-01-05  0.409898\n",
      "Media mensual:\n",
      "               Valor\n",
      "Fecha               \n",
      "2023-01-31 -0.252353\n",
      "2023-02-28  0.108457\n",
      "2023-03-31 -0.198349\n",
      "2023-04-30 -0.003058\n",
      "2023-05-31  0.367504\n",
      "2023-06-30  0.203321\n",
      "2023-07-31 -0.428257\n",
      "2023-08-31  0.002760\n",
      "2023-09-30 -0.032567\n",
      "2023-10-31  0.334832\n",
      "2023-11-30 -0.142949\n",
      "2023-12-31 -0.099579\n",
      "\n",
      "Desviación estándar mensual:\n",
      "               Valor\n",
      "Fecha               \n",
      "2023-01-31  0.904376\n",
      "2023-02-28  1.125933\n",
      "2023-03-31  0.953690\n",
      "2023-04-30  1.058910\n",
      "2023-05-31  0.788542\n",
      "2023-06-30  0.926407\n",
      "2023-07-31  1.198680\n",
      "2023-08-31  1.080120\n",
      "2023-09-30  1.208082\n",
      "2023-10-31  1.038756\n",
      "2023-11-30  0.914641\n",
      "2023-12-31  1.275181\n",
      "\n",
      "Estadísticas mensuales:\n",
      "               Valor                              \n",
      "                mean       std       min       max\n",
      "Fecha                                             \n",
      "2023-01-31 -0.252353  0.904376 -2.389106  1.363580\n",
      "2023-02-28  0.108457  1.125933 -1.882153  2.625833\n",
      "2023-03-31 -0.198349  0.953690 -2.234191  1.712437\n",
      "2023-04-30 -0.003058  1.058910 -2.466484  1.888926\n",
      "2023-05-31  0.367504  0.788542 -1.420311  2.252040\n",
      "2023-06-30  0.203321  0.926407 -1.383317  2.035635\n",
      "2023-07-31 -0.428257  1.198680 -2.842301  1.688666\n",
      "2023-08-31  0.002760  1.080120 -2.595933  1.793811\n",
      "2023-09-30 -0.032567  1.208082 -3.108680  1.593585\n",
      "2023-10-31  0.334832  1.038756 -1.601934  2.449528\n",
      "2023-11-30 -0.142949  0.914641 -2.285263  1.533991\n",
      "2023-12-31 -0.099579  1.275181 -2.293637  2.971366\n"
     ]
    },
    {
     "name": "stderr",
     "output_type": "stream",
     "text": [
      "C:\\Users\\perei\\AppData\\Local\\Temp\\ipykernel_16728\\904095433.py:15: FutureWarning: 'M' is deprecated and will be removed in a future version, please use 'ME' instead.\n",
      "  monthly_mean = df.resample('M').mean()\n",
      "C:\\Users\\perei\\AppData\\Local\\Temp\\ipykernel_16728\\904095433.py:20: FutureWarning: 'M' is deprecated and will be removed in a future version, please use 'ME' instead.\n",
      "  monthly_std = df.resample('M').std()\n",
      "C:\\Users\\perei\\AppData\\Local\\Temp\\ipykernel_16728\\904095433.py:25: FutureWarning: 'M' is deprecated and will be removed in a future version, please use 'ME' instead.\n",
      "  monthly_stats = df.resample('M').agg(['mean', 'std', 'min', 'max'])\n"
     ]
    }
   ],
   "source": [
    "# Crear un rango de fechas\n",
    "dates = pd.date_range(start='2023-01-01', end='2023-12-31', freq='D')\n",
    "\n",
    "# Crear un DataFrame con datos de ejemplo\n",
    "data = np.random.randn(len(dates))  # Datos aleatorios\n",
    "df = pd.DataFrame({'Fecha': dates, 'Valor': data})\n",
    "\n",
    "# Establecer la columna 'Fecha' como índice\n",
    "df.set_index('Fecha', inplace=True)\n",
    "\n",
    "# Mostrar las primeras filas del DataFrame\n",
    "print(df.head())\n",
    "\n",
    "# Agrupar por meses y calcular la media\n",
    "monthly_mean = df.resample('M').mean()\n",
    "print(\"Media mensual:\")\n",
    "print(monthly_mean)\n",
    "\n",
    "# Agrupar por meses y calcular la desviación estándar\n",
    "monthly_std = df.resample('M').std()\n",
    "print(\"\\nDesviación estándar mensual:\")\n",
    "print(monthly_std)\n",
    "\n",
    "# Agrupar por meses y calcular varias estadísticas\n",
    "monthly_stats = df.resample('M').agg(['mean', 'std', 'min', 'max'])\n",
    "print(\"\\nEstadísticas mensuales:\")\n",
    "print(monthly_stats)\n"
   ]
  },
  {
   "cell_type": "markdown",
   "metadata": {},
   "source": [
    "Visualización de datos:\n",
    "\n",
    "Usa la librería matplotlib para crear gráficos básicos a partir de un DataFrame (por ejemplo, un gráfico de barras de 'Salario' vs 'Nombre')."
   ]
  },
  {
   "cell_type": "code",
   "execution_count": 29,
   "metadata": {},
   "outputs": [
    {
     "name": "stdout",
     "output_type": "stream",
     "text": [
      "  Nombre  Salario\n",
      "0    Ana    30000\n",
      "1   Luis    40000\n",
      "2  Pedro    50000\n",
      "3  Marta    60000\n"
     ]
    }
   ],
   "source": [
    "# Crear un DataFrame de ejemplo\n",
    "data = {'Nombre': ['Ana', 'Luis', 'Pedro', 'Marta'],\n",
    "        'Salario': [30000, 40000, 50000, 60000]}\n",
    "df = pd.DataFrame(data)\n",
    "\n",
    "# Mostrar el DataFrame\n",
    "print(df)\n"
   ]
  },
  {
   "cell_type": "code",
   "execution_count": 28,
   "metadata": {},
   "outputs": [
    {
     "data": {
      "image/png": "[encoded data removed]",
      "text/plain": [
       "<Figure size 800x600 with 1 Axes>"
      ]
     },
     "metadata": {},
     "output_type": "display_data"
    }
   ],
   "source": [
    "# Crear el gráfico de barras\n",
    "plt.figure(figsize=(8, 6))\n",
    "plt.bar(df['Nombre'], df['Salario'], color='skyblue')\n",
    "\n",
    "# Añadir títulos y etiquetas\n",
    "plt.title('Salario vs Nombre')\n",
    "plt.xlabel('Nombre')\n",
    "plt.ylabel('Salario')\n",
    "\n",
    "# Mostrar el gráfico\n",
    "plt.show()\n"
   ]
  },
  {
   "cell_type": "code",
   "execution_count": null,
   "metadata": {},
   "outputs": [],
   "source": []
  }
 ],
 "metadata": {
  "kernelspec": {
   "display_name": "Python 3",
   "language": "python",
   "name": "python3"
  },
  "language_info": {
   "codemirror_mode": {
    "name": "ipython",
    "version": 3
   },
   "file_extension": ".py",
   "mimetype": "text/x-python",
   "name": "python",
   "nbconvert_exporter": "python",
   "pygments_lexer": "ipython3",
   "version": "3.12.3"
  }
 },
 "nbformat": 4,
 "nbformat_minor": 2
}
